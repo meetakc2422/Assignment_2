{
 "cells": [
  {
   "cell_type": "code",
   "execution_count": 6,
   "metadata": {},
   "outputs": [
    {
     "name": "stdout",
     "output_type": "stream",
     "text": [
      "15\n"
     ]
    }
   ],
   "source": [
    "def myreduce(a_list):\n",
    "    a = 0\n",
    "    for item in a_list:\n",
    "        a = a + item\n",
    "    return a\n",
    "print(myreduce([1,2,3,4,5]))"
   ]
  },
  {
   "cell_type": "code",
   "execution_count": 10,
   "metadata": {},
   "outputs": [
    {
     "name": "stdout",
     "output_type": "stream",
     "text": [
      "[5, 10]\n"
     ]
    }
   ],
   "source": [
    "def myfilter(B_list):\n",
    "    a = []\n",
    "    for item in B_list:\n",
    "        if item %5 == 0:  ## filtering numbers divisible by 5\n",
    "            a.append(item)\n",
    "    return a\n",
    "        \n",
    "print(myfilter([1,2,3,4,5,10]))\n",
    "            "
   ]
  },
  {
   "cell_type": "code",
   "execution_count": 11,
   "metadata": {},
   "outputs": [
    {
     "name": "stdout",
     "output_type": "stream",
     "text": [
      "['A', 'C', 'A', 'D', 'G', 'I', 'L', 'D']\n"
     ]
    }
   ],
   "source": [
    "a_list = \"ACADGILD\"\n",
    "b = [x for x in a_list]  \n",
    "print(b)"
   ]
  },
  {
   "cell_type": "code",
   "execution_count": 2,
   "metadata": {},
   "outputs": [
    {
     "name": "stdout",
     "output_type": "stream",
     "text": [
      "['x', 'xx', 'xxx', 'xxxx', 'y', 'yy', 'yyy', 'yyyy', 'z', 'zz', 'zzz', 'zzzz']\n"
     ]
    }
   ],
   "source": [
    "B_list = (\"x\",\"y\",\"z\")\n",
    "b = [x*y for x in B_list for y in range(1,5)]\n",
    "print(b)"
   ]
  },
  {
   "cell_type": "code",
   "execution_count": 3,
   "metadata": {},
   "outputs": [
    {
     "name": "stdout",
     "output_type": "stream",
     "text": [
      "['x', 'y', 'z', 'xx', 'yy', 'zz', 'xxx', 'yyy', 'zzz', 'xxxx', 'yyyy', 'zzzz']\n"
     ]
    }
   ],
   "source": [
    "C_list = (\"x\",\"y\",\"z\")\n",
    "b = [x*y for x in range(1,5) for y in C_list]\n",
    "print(b)"
   ]
  },
  {
   "cell_type": "code",
   "execution_count": 4,
   "metadata": {},
   "outputs": [
    {
     "name": "stdout",
     "output_type": "stream",
     "text": [
      "[[2], [3], [4], [3], [4], [5], [4], [5], [6]]\n"
     ]
    }
   ],
   "source": [
    "D_list = (2,3,4)\n",
    "b = [[x+y] for x in range(0,3) for y in D_list]\n",
    "print(b)"
   ]
  },
  {
   "cell_type": "code",
   "execution_count": 5,
   "metadata": {},
   "outputs": [
    {
     "name": "stdout",
     "output_type": "stream",
     "text": [
      "[[2, 3, 4, 5], [3, 4, 5, 6], [4, 5, 6, 7], [5, 6, 7, 8]]\n"
     ]
    }
   ],
   "source": [
    "E_list = (2,3,4,5)\n",
    "b = [ [x+y for x in E_list] for y in range(0,4)]\n",
    "print(b)"
   ]
  },
  {
   "cell_type": "code",
   "execution_count": 7,
   "metadata": {},
   "outputs": [
    {
     "name": "stdout",
     "output_type": "stream",
     "text": [
      "[(1, 1), (2, 1), (3, 1), (1, 2), (2, 2), (3, 2), (1, 3), (2, 3), (3, 3)]\n"
     ]
    }
   ],
   "source": [
    "F_list = (1,2,3)\n",
    "b = [(x,y)for y in F_list for x in range(1,4)]\n",
    "print(b)"
   ]
  },
  {
   "cell_type": "code",
   "execution_count": 12,
   "metadata": {},
   "outputs": [
    {
     "name": "stdout",
     "output_type": "stream",
     "text": [
      "orlf\n"
     ]
    }
   ],
   "source": [
    "def longestword(word_list):\n",
    "    a = []\n",
    "    for item in word_list:\n",
    "        a.append((len(item),item))\n",
    "        a.sort()\n",
    "    return a[-1][1]\n",
    "print(longestword([\"rut\",\"orlf\",\"oejr\"]))"
   ]
  },
  {
   "cell_type": "code",
   "execution_count": 19,
   "metadata": {},
   "outputs": [
    {
     "name": "stdout",
     "output_type": "stream",
     "text": [
      "2.9047375096555625\n"
     ]
    }
   ],
   "source": [
    "class triangle():\n",
    "    def __init__(self,a,b,c):\n",
    "        self.a = a\n",
    "        self.b = b\n",
    "        self.c = c\n",
    "class AreaTr(triangle):\n",
    "    def area(self):\n",
    "        s = (self.a +self.b +self.c)/2\n",
    "        ar =(s*(s-self.a)*(s-self.b)*(s-self.c)) ** 0.5\n",
    "        return ar\n",
    "first_triangle = AreaTr(2,3,4)\n",
    "print(first_triangle.area())"
   ]
  },
  {
   "cell_type": "code",
   "execution_count": 13,
   "metadata": {},
   "outputs": [
    {
     "name": "stdout",
     "output_type": "stream",
     "text": [
      "['hey', 'hello']\n"
     ]
    }
   ],
   "source": [
    "def filter_long_words(a_list,n):\n",
    "    a = []\n",
    "    for item in a_list:\n",
    "        if len(item) > n:\n",
    "            a.append(item)\n",
    "    return a\n",
    "print(filter_long_words([\"hey\",\"hello\",\"hi\"],2))"
   ]
  },
  {
   "cell_type": "code",
   "execution_count": 16,
   "metadata": {},
   "outputs": [
    {
     "name": "stdout",
     "output_type": "stream",
     "text": [
      "[4, 2, 4]\n"
     ]
    }
   ],
   "source": [
    "def len_of_words(words):\n",
    "    a = []\n",
    "    for item in words:\n",
    "        a.append(len(item))\n",
    "    return a\n",
    "print(len_of_words([\"this\",\"is\", \"good\"]))"
   ]
  },
  {
   "cell_type": "code",
   "execution_count": 17,
   "metadata": {},
   "outputs": [
    {
     "name": "stdout",
     "output_type": "stream",
     "text": [
      "give text: a\n",
      "True\n"
     ]
    }
   ],
   "source": [
    "def check_vowel(a):\n",
    "    if len(a) > 1:\n",
    "        return \"give a text of length 1\"\n",
    "    elif a in [\"a\",\"e\",\"i\",\"o\",\"u\"]:\n",
    "        return True\n",
    "    else:\n",
    "        return False\n",
    "a = input(\"give text: \").casefold()  # to ignore case mismatch\n",
    "print(check_vowel(a))"
   ]
  },
  {
   "cell_type": "code",
   "execution_count": null,
   "metadata": {},
   "outputs": [],
   "source": []
  }
 ],
 "metadata": {
  "kernelspec": {
   "display_name": "Python 3",
   "language": "python",
   "name": "python3"
  },
  "language_info": {
   "codemirror_mode": {
    "name": "ipython",
    "version": 3
   },
   "file_extension": ".py",
   "mimetype": "text/x-python",
   "name": "python",
   "nbconvert_exporter": "python",
   "pygments_lexer": "ipython3",
   "version": "3.7.4"
  }
 },
 "nbformat": 4,
 "nbformat_minor": 2
}
